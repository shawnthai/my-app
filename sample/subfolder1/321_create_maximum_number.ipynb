{
 "cells": [
  {
   "cell_type": "code",
   "execution_count": 2,
   "metadata": {},
   "outputs": [
    {
     "data": {
      "text/plain": [
       "[7, 9, 2, 1]"
      ]
     },
     "execution_count": 2,
     "metadata": {},
     "output_type": "execute_result"
    }
   ],
   "source": [
    "#maxNum consisting of k number\n",
    "def maxK(nums, k):\n",
    "    l = len(nums)\n",
    "    res = [0 for _ in range(k)]\n",
    "    j = 0\n",
    "    for i in range(l):\n",
    "        while(j > 0 and nums[i] > res[j - 1] and l - i > k - j):\n",
    "            j -= 1\n",
    "        if j < k:\n",
    "            res[j] = nums[i]\n",
    "            j += 1\n",
    "    return res\n",
    "nums = [3, 5, 7, 9, 2, 1]\n",
    "k = 4\n",
    "ans = maxK(nums, k)\n",
    "ans"
   ]
  },
  {
   "cell_type": "code",
   "execution_count": 14,
   "metadata": {},
   "outputs": [
    {
     "data": {
      "text/plain": [
       "[6, 7, 6, 0, 4]"
      ]
     },
     "execution_count": 14,
     "metadata": {},
     "output_type": "execute_result"
    }
   ],
   "source": [
    "#combining two arrays to make the ans biggest\n",
    "def maxMerge(nums1, nums2):\n",
    "    \n",
    "    s1, s2 = 0, 0\n",
    "    e1, e2 = len(nums1) - 1, len(nums2) - 1\n",
    "    ans = [0 for _ in range(len(nums1) + len(nums2))]\n",
    "    j = 0\n",
    "    while s1 != len(nums1) or s2 != len(nums2):\n",
    "        if nums1[s1: len(nums1)] >= nums2[s2:len(nums2)]:\n",
    "            ans[j] = nums1[s1]\n",
    "            s1 += 1\n",
    "        else:\n",
    "            ans[j] = nums2[s2]\n",
    "            s2 += 1\n",
    "        j += 1\n",
    "        \n",
    "    return ans\n",
    "nums1 = [6,7]\n",
    "nums2 = [6, 0 ,4]\n",
    "res = maxMerge(nums1, nums2)\n",
    "res"
   ]
  },
  {
   "cell_type": "code",
   "execution_count": 9,
   "metadata": {},
   "outputs": [
    {
     "name": "stdout",
     "output_type": "stream",
     "text": [
      "True\n"
     ]
    }
   ],
   "source": [
    "n1 =[1, 2, 3]\n",
    "n2 = [1, 3, 9]\n",
    "print(n1 < n2)"
   ]
  },
  {
   "cell_type": "code",
   "execution_count": 19,
   "metadata": {},
   "outputs": [
    {
     "name": "stdout",
     "output_type": "stream",
     "text": [
      "['hello', 'are', 'awesome']\n",
      "['hello', 'you', 'are', 'awesome']\n"
     ]
    }
   ],
   "source": [
    "s = [\"hello\", \"you\", \"are\", \"awesome\"]\n",
    "temp[:] = s\n",
    "temp.remove(\"you\")\n",
    "s\n",
    "print(temp)\n",
    "temp[:] = s\n",
    "print(temp)"
   ]
  },
  {
   "cell_type": "code",
   "execution_count": 23,
   "metadata": {},
   "outputs": [
    {
     "name": "stdout",
     "output_type": "stream",
     "text": [
      "[1, 2, 3, 4, 5]\n",
      "[1, 5, 3, 4, 2]\n"
     ]
    }
   ],
   "source": [
    "correct = []\n",
    "inorder = [1, 5, 3, 4, 2]\n",
    "\n",
    "correct[:] = sorted(inorder)\n",
    "print(correct)\n",
    "print(inorder)\n"
   ]
  },
  {
   "cell_type": "code",
   "execution_count": 24,
   "metadata": {},
   "outputs": [
    {
     "data": {
      "text/plain": [
       "[1, 5, 3, 4]"
      ]
     },
     "execution_count": 24,
     "metadata": {},
     "output_type": "execute_result"
    }
   ],
   "source": [
    "inorder.pop()\n",
    "inorder"
   ]
  },
  {
   "cell_type": "code",
   "execution_count": 5,
   "metadata": {},
   "outputs": [
    {
     "data": {
      "text/plain": [
       "Counter({1: 1, 2: 2, 3: 3})"
      ]
     },
     "execution_count": 5,
     "metadata": {},
     "output_type": "execute_result"
    }
   ],
   "source": [
    "import collections\n",
    "arr = [1,2,2,3,3,3]\n",
    "c = collections.Counter(arr)\n",
    "c"
   ]
  },
  {
   "cell_type": "code",
   "execution_count": 12,
   "metadata": {},
   "outputs": [
    {
     "name": "stdout",
     "output_type": "stream",
     "text": [
      "leetleethaleetleethaleetleetha\n"
     ]
    }
   ],
   "source": [
    "S = \"leet2ha3\"\n",
    "tape = \"\"\n",
    "for i in S:\n",
    "    if i.isalpha():\n",
    "        tape = tape + i\n",
    "    if i.isdigit():\n",
    "        tape = tape * int(i)\n",
    "print(tape)"
   ]
  },
  {
   "cell_type": "code",
   "execution_count": 10,
   "metadata": {},
   "outputs": [
    {
     "name": "stdout",
     "output_type": "stream",
     "text": [
      "leelee\n"
     ]
    }
   ],
   "source": [
    "tape = \"lee\"\n",
    "print(tape * 2)"
   ]
  },
  {
   "cell_type": "code",
   "execution_count": null,
   "metadata": {},
   "outputs": [],
   "source": []
  }
 ],
 "metadata": {
  "kernelspec": {
   "display_name": "Python 3",
   "language": "python",
   "name": "python3"
  },
  "language_info": {
   "codemirror_mode": {
    "name": "ipython",
    "version": 3
   },
   "file_extension": ".py",
   "mimetype": "text/x-python",
   "name": "python",
   "nbconvert_exporter": "python",
   "pygments_lexer": "ipython3",
   "version": "3.8.5"
  }
 },
 "nbformat": 4,
 "nbformat_minor": 4
}
